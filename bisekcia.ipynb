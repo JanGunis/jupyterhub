{
 "cells": [
  {
   "cell_type": "markdown",
   "metadata": {},
   "source": [
    "Tu bude nejaké slovné zadanie úlohy, kde treba zostavit a vyriešiť rovnicu typu f(x) = 0. Funkcia by mala byť taká, aby sa nedala vyriešiť algebrickými úravami (aspoň na úrovni SS matematiky). \n",
    "Žiaci by mali na začiatku experimentovať s grafom funkcie a ručne spresňovať interval, kde sa koreň nachádza.\n",
    "Napr. f(x) = 2x^5+5x^4−10x^2+10x−3 //toto treba lepsie zvolit, mozno v kontexte nejakej realnej ulohy"
   ]
  },
  {
   "cell_type": "code",
   "execution_count": 2,
   "metadata": {},
   "outputs": [],
   "source": [
    "#pouzijme kniznice pre matematicke vypocty a kreslenie grafov\n",
    "%matplotlib inline\n",
    "import matplotlib.pyplot as plt\n",
    "import numpy as np"
   ]
  },
  {
   "cell_type": "markdown",
   "metadata": {},
   "source": [
    "<b>Experimentujte so zobrazením grafu. Meňte okraje intervalu tak, aby ste čo najpresnejšie lokalizovali koreň.</b>"
   ]
  },
  {
   "cell_type": "code",
   "execution_count": 3,
   "metadata": {},
   "outputs": [
    {
     "data": {
      "image/png": "[encoded data removed]"
     },
     "output_type": "display_data",
     "text": [
      "<matplotlib.figure.Figure at 0x2fbe9ee320>"
     ],
     "metadata": {}
    }
   ],
   "source": [
    "#zvolte nejaké vhodné okraje intervalu v ktorom budeme koreň hľadať\n",
    "intervalZaciatok = -1\n",
    "intervalKoniec = 1\n",
    "\n",
    "x = np.linspace(intervalZaciatok, intervalKoniec, 500)\n",
    "plt.grid(True)\n",
    "\n",
    "#zmeňte predpis pre výpočet funkčnej hodnoty\n",
    "plt.plot(x, 2*x**5+5*x**4-10*x**2+10*x-3)\n",
    "\n",
    "plt.title('Graf funkcie');"
   ]
  },
  {
   "cell_type": "markdown",
   "metadata": {},
   "source": [
    "Zamyslite sa. Napíšte svoje odpovede.\n"
   ]
  },
  {
   "cell_type": "markdown",
   "metadata": {},
   "source": [
    "<b>Podľa čoho vieme, či koreň sa náchádza v nejakom vstupnom intervale?</b>"
   ]
  },
  {
   "cell_type": "markdown",
   "metadata": {},
   "source": [
    "Odpoveď:\n",
    "V krajných bodoch ma funkcia navzájom opačné znamienka."
   ]
  },
  {
   "cell_type": "markdown",
   "metadata": {},
   "source": [
    "<b>Ako zovšeobecniť pravidlá úpravy intervalu?</b>"
   ]
  },
  {
   "cell_type": "markdown",
   "metadata": {},
   "source": [
    "Odpoveď:\n",
    "na začiatku musí byť prienik s osou x niekde v tomto intervale\n",
    "posúvame okraje intervalu smerom k sebe tak, aby prienik s osou x bol vždy v intervale\n",
    "napr. jeden z nich vždy posunieme do stredu\n"
   ]
  },
  {
   "cell_type": "markdown",
   "metadata": {},
   "source": [
    "<b>Dokedy túto úpravu realizovat?</b>"
   ]
  },
  {
   "cell_type": "markdown",
   "metadata": {},
   "source": [
    "Odpoveď:\n",
    "dovtedy, kým interval nie je dostatočne malý"
   ]
  },
  {
   "cell_type": "markdown",
   "metadata": {},
   "source": [
    "<b>Čo bude riešenim našej rovnice?</b>"
   ]
  },
  {
   "cell_type": "markdown",
   "metadata": {},
   "source": [
    "Odpoveď:\n",
    "nejaké číslo z tohto intervalu, nevieme presne ale vieme, že od toho skutočného sa nebude líšiť o viac ako dĺžka intervalu"
   ]
  },
  {
   "cell_type": "code",
   "execution_count": 9,
   "metadata": {},
   "outputs": [
    {
     "name": "stdout",
     "output_type": "stream",
     "text": [
      "0.5396914482116699\n"
     ]
    },
    {
     "data": {
      "image/png": "[encoded data removed]"
     },
     "output_type": "display_data",
     "metadata": {}
    }
   ],
   "source": [
    "#definujte funkciu, ktora pre zadane x vr=ati hodnotu funkcie v tomto bode\n",
    "def funkcia(x):\n",
    "    return 2*x**5+5*x**4-10*x**2+10*x-3\n",
    "\n",
    "#definujte okraje intervalu a dlzku intervalu kedy skoncime\n",
    "intervalZaciatok = -2\n",
    "intervalKoniec = 2\n",
    "presnost = 0.000001\n",
    "\n",
    "\n",
    "#doplnte podmienku, dokedy opakovat zuzovanie intervalu\n",
    "while (intervalKoniec - intervalZaciatok) > presnost:\n",
    "    #doplnte vypocet stredu intervalu\n",
    "    stred = (intervalKoniec + intervalZaciatok) / 2\n",
    "    \n",
    "    #doplnte upravu pre posun okrajov intervalu\n",
    "    if funkcia(intervalZaciatok) <= 0 and funkcia(stred) <= 0:\n",
    "        intervalZaciatok = stred\n",
    "    else:\n",
    "        intervalKoniec = stred\n",
    "\n",
    "#vypiste najdene riesenie\n",
    "print ((intervalKoniec + intervalZaciatok) / 2)\n",
    "\n",
    "\n",
    "\n",
    "x = np.linspace(intervalZaciatok, intervalKoniec, 500)\n",
    "plt.grid(True)\n",
    "plt.plot(x, funkcia(x))\n",
    "plt.title('Graf funkcie');"
   ]
  },
  {
   "cell_type": "markdown",
   "metadata": {},
   "source": [
    "Záverečné poznámky:\n"
   ]
  }
 ],
 "metadata": {
  "kernelspec": {
   "display_name": "Python 3",
   "language": "python",
   "name": "python3"
  },
  "language_info": {
   "codemirror_mode": {
    "name": "ipython",
    "version": 3.0
   },
   "file_extension": ".py",
   "mimetype": "text/x-python",
   "name": "python",
   "nbconvert_exporter": "python",
   "pygments_lexer": "ipython3",
   "version": "3.5.1"
  }
 },
 "nbformat": 4,
 "nbformat_minor": 0
}